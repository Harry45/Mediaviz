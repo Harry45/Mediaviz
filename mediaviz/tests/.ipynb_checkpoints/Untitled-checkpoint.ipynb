{
 "cells": [
  {
   "cell_type": "code",
   "execution_count": 91,
   "metadata": {},
   "outputs": [],
   "source": [
    "import pytest\n",
    "from mediaviz.rotation import rotate,rotation_layout\n",
    "\n",
    "def test_rotate():\n",
    "    # check with well known points and rotations\n",
    "    result1 = rotate(point=(1,1),angle=180, origin = (0,0))\n",
    "    result2 = rotate(point=(1,0),angle=90, origin = (0,0))\n",
    "    # note : rounding in the function may harm the layout positions from fa2l by reducing precision, so\n",
    "    # rounding in the test\n",
    "    assert np.all(np.round(result1)==np.array([-1.,-1.]))\n",
    "    assert np.all(np.round(result2)==np.array([0.,1.]))\n",
    "    \n",
    "\n",
    "def test_rotation_layout():\n",
    "    # make fake pos dictionary with known points\n",
    "    pos = {'1':(1,1),'2':(1,0)}\n",
    "    result = rotation_layout(pos,180,origin=(0,0))\n",
    "    expected_result_vals = [[-1,-1],[-1,0]]\n",
    "    result_vals = np.round(list(result.values()))\n",
    "    # assert that rotation layout returns a dictionary again\n",
    "    assert type(pos) == type(result)\n",
    "    # assert that expected values for the positions matches the resulting values\n",
    "    assert np.all(expected_result_vals == result_vals)"
   ]
  }
 ],
 "metadata": {
  "kernelspec": {
   "display_name": "Python 3",
   "language": "python",
   "name": "python3"
  },
  "language_info": {
   "codemirror_mode": {
    "name": "ipython",
    "version": 3
   },
   "file_extension": ".py",
   "mimetype": "text/x-python",
   "name": "python",
   "nbconvert_exporter": "python",
   "pygments_lexer": "ipython3",
   "version": "3.6.5"
  }
 },
 "nbformat": 4,
 "nbformat_minor": 2
}
