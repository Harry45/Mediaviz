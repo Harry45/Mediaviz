{
 "cells": [
  {
   "cell_type": "code",
   "execution_count": 2,
   "metadata": {},
   "outputs": [],
   "source": [
    "import warnings\n",
    "warnings.filterwarnings('ignore')\n",
    "\n",
    "# this has to be first to make sure that matplotlib runs in headless mode\n",
    "import matplotlib\n",
    "matplotlib.use(\"Agg\")\n",
    "import numpy as np\n",
    "from fa2l import force_atlas2_layout\n",
    "import networkx as nx\n",
    "import matplotlib.pyplot as plt\n",
    "from adjustText import adjust_text\n",
    "\n",
    "from draw import draw_forceatlas2_network\n",
    "from viz_parser import parse_colors, parse_size"
   ]
  },
  {
   "cell_type": "code",
   "execution_count": 3,
   "metadata": {},
   "outputs": [],
   "source": [
    "path = \"deep_state_500.gexf\""
   ]
  },
  {
   "cell_type": "code",
   "execution_count": 4,
   "metadata": {},
   "outputs": [],
   "source": [
    "G = nx.read_gexf(path)\n"
   ]
  },
  {
   "cell_type": "code",
   "execution_count": 5,
   "metadata": {},
   "outputs": [],
   "source": [
    "node_colors = list(parse_colors(path,hex=True).values())\n",
    "node_sizes = list(parse_size(path).values())"
   ]
  },
  {
   "cell_type": "code",
   "execution_count": 8,
   "metadata": {},
   "outputs": [
    {
     "name": "stdout",
     "output_type": "stream",
     "text": [
      "scale is 1.418308681523343\n"
     ]
    }
   ],
   "source": [
    "draw_forceatlas2_network(\n",
    "        G,\n",
    "        node_sizes=40, num_labels = 50,\n",
    "        node_colors = node_colors,\n",
    "        with_labels=True, label_field=\"label\",\n",
    "        filter_by=\"inlink_count\", top=100,\n",
    "        adjust_labels=True,\n",
    "        node_opacity=0.5, edge_opacity=0.01,\n",
    "        font_size=8,\n",
    "        filename=\"untitled.png\", title=\"Deep State\",\n",
    "        edge_color_by_source=True,\n",
    "        figsize=(10, 10))\n"
   ]
  },
  {
   "cell_type": "code",
   "execution_count": null,
   "metadata": {},
   "outputs": [],
   "source": []
  }
 ],
 "metadata": {
  "kernelspec": {
   "display_name": "Python 3",
   "language": "python",
   "name": "python3"
  },
  "language_info": {
   "codemirror_mode": {
    "name": "ipython",
    "version": 3
   },
   "file_extension": ".py",
   "mimetype": "text/x-python",
   "name": "python",
   "nbconvert_exporter": "python",
   "pygments_lexer": "ipython3",
   "version": "3.6.5"
  }
 },
 "nbformat": 4,
 "nbformat_minor": 2
}
