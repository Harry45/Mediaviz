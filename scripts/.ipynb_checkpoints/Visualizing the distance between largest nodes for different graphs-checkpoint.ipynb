{
 "cells": [
  {
   "cell_type": "code",
   "execution_count": 1,
   "metadata": {},
   "outputs": [],
   "source": [
    "import math\n",
    "import networkx as nx\n",
    "from itertools import combinations\n",
    "import numpy as np\n",
    "from utils import set_node_size\n",
    "from fa2l import force_atlas2_layout\n",
    "import os"
   ]
  },
  {
   "cell_type": "code",
   "execution_count": 2,
   "metadata": {},
   "outputs": [],
   "source": [
    "network_filenames = os.listdir(\"../graphs\")"
   ]
  },
  {
   "cell_type": "code",
   "execution_count": 3,
   "metadata": {},
   "outputs": [
    {
     "data": {
      "text/plain": [
       "9"
      ]
     },
     "execution_count": 3,
     "metadata": {},
     "output_type": "execute_result"
    }
   ],
   "source": [
    "len(network_filenames)"
   ]
  },
  {
   "cell_type": "code",
   "execution_count": 4,
   "metadata": {},
   "outputs": [],
   "source": [
    "def get_distance(pos1,pos2):\n",
    "    \"\"\" Returns distance between two points\n",
    "    \n",
    "    Params : \n",
    "    \n",
    "    pos1 : tuple in (x,y) format\n",
    "    pos2 : tuple in (x,y) format\n",
    "    \n",
    "    \"\"\"\n",
    "    return math.sqrt((pos2[0]-pos1[0])**2 + (pos2[1]-pos1[1])**2)\n",
    "\n",
    "\n",
    "def has_node_overlap(pos1,pos2,size):\n",
    "    \"\"\" \n",
    "    Boolean. Takes in the position of two nodes and their sizes as input.\n",
    "    Returns true if the two nodes overlap with each other.\n",
    "    \n",
    "    Parameters : \n",
    "    ____________\n",
    "    \n",
    "    pos1 : position of node 1 in (x,y) form\n",
    "    pos2 : position of node 2 in (x,y) form\n",
    "    size : tuple in the form of (s1,s2) where s1 = size of node 1 and s2 = size of node 2.\n",
    "        \n",
    "     \n",
    "    \"\"\"\n",
    "    distance = get_distance(pos1,pos2)\n",
    "    if distance <= size[0] + size[1] :\n",
    "        return True\n",
    "    else:\n",
    "        return False\n",
    "    \n",
    "\n",
    "def top_k_node_overlap(G,pos,node_sizes,k=20):\n",
    "    \"\"\" Boolean. Returns True if any of the top k nodes overlap with each other.\n",
    "    \n",
    "    Parameters : \n",
    "    ____________\n",
    "    \n",
    "    G : A networkx graph.\n",
    "    \n",
    "    Pos : dict of {node1:(x1,y1)...} form calculated by a networkx graph layout algorithm\n",
    "    \n",
    "    node_sizes : dict of {node:size} \n",
    "    \n",
    "    k : number of nodes to check for overlap\n",
    "    \n",
    "    \"\"\"\n",
    "    top_k_nodes = [n[0] for n in sorted(node_sizes.items(),key=lambda x:x[1], reverse = True)[0:k]]\n",
    "    top_k_pos = {k:v for k,v in pos.items() if k in top_k_nodes}\n",
    "    top_k_sizes = {k:v for k,v in node_sizes.items() if k in top_k_nodes}\n",
    "    overlap = False\n",
    "    #overlapping_nodes = []\n",
    "    for n1,n2 in combinations(top_k_nodes,2):\n",
    "        if has_node_overlap(top_k_pos[n1],top_k_pos[n2],[top_k_sizes[n1],top_k_sizes[n2]]):\n",
    "            #overlapping_nodes.append((n1,n2))\n",
    "            overlap = True\n",
    "            return overlap\n",
    "    return overlap\n",
    "    #return overlapping_nodes,top_k_nodes,top_k_pos,top_k_sizes\n",
    "    #return overlapping_nodes\n",
    "    \n",
    "    \n",
    "    \n",
    "def has_node_apart(G,pos,node_sizes,k=2,d=0.9):\n",
    "    \"\"\" \n",
    "    Boolean. Returns True if any of the top k nodes are too far away from each other.\n",
    "    \n",
    "    Parameters : \n",
    "    ____________\n",
    "    \n",
    "    G : A graph object\n",
    "    pos : dict containing the position of the nodes\n",
    "    k : number of nodes to consider\n",
    "    d : minimum distance between two nodes that must be maintained. if distance between any of the pairs > d returns True.\n",
    "    \n",
    "    \"\"\"\n",
    "    top_k_nodes = [n[0] for n in sorted(node_sizes.items(),key=lambda x:x[1], reverse = True)[0:k]]\n",
    "    top_k_pos = {k:v for k,v in pos.items() if k in top_k_nodes}\n",
    "    node_too_far = False\n",
    "    for n1,n2 in combinations(top_k_nodes,2):\n",
    "        if get_distance(pos[n1],pos[n2]) > d:\n",
    "            node_too_far = True\n",
    "            return True\n",
    "    return node_too_far\n",
    "    \n",
    "    \n",
    "def get_distances_pairwise_largest_nodes(G,pos,node_sizes,k=20):\n",
    "    \"\"\" \n",
    "    Boolean. Returns the distances between top k largest nodes\n",
    "    Parameters : \n",
    "    ____________\n",
    "    \n",
    "    G : A graph object\n",
    "    pos : dict containing the position of the nodes\n",
    "    k : number of nodes to consider    \n",
    "    \"\"\"\n",
    "    top_k_nodes = [n[0] for n in sorted(node_sizes.items(),key=lambda x:x[1], reverse = True)[0:k]]\n",
    "    top_k_pos = {k:v for k,v in pos.items() if k in top_k_nodes}\n",
    "    distances = []\n",
    "    for n1,n2 in combinations(top_k_nodes,2):\n",
    "        distances.append(get_distance(pos[n1],pos[n2]))\n",
    "            \n",
    "    return distances\n",
    "\n",
    "    \n"
   ]
  },
  {
   "cell_type": "code",
   "execution_count": 10,
   "metadata": {},
   "outputs": [],
   "source": [
    "def visualize_distance_vs_scale_helper(G,min_scale,max_scale,step_size,node_sizes):\n",
    "    scales  = np.arange(min_scale,max_scale,step_size)\n",
    "    overlaps = []\n",
    "    distance_set = []\n",
    "    for scale in scales:\n",
    "        # calculate position\n",
    "        pos = force_atlas2_layout(\n",
    "              G,\n",
    "              iterations=50,\n",
    "              pos_list=None,\n",
    "              node_masses=None,\n",
    "              outbound_attraction_distribution=False,\n",
    "              lin_log_mode=False,\n",
    "              prevent_overlapping=False,\n",
    "              edge_weight_influence=1.0,\n",
    "              jitter_tolerance=1.0,\n",
    "              barnes_hut_optimize=True,\n",
    "              barnes_hut_theta=1.0,\n",
    "              scaling_ratio=scale,\n",
    "              strong_gravity_mode=False,\n",
    "              multithread=False,\n",
    "              gravity=1.0)\n",
    "        # check for node overlaps\n",
    "        overlaps.append(top_k_node_overlap(G,pos,node_sizes,k=20))\n",
    "        # find the distances between the largest nodes pairwise\n",
    "        distance_set.append(get_distances_pairwise_largest_nodes(G,pos,node_sizes,k=20))\n",
    "        \n",
    "    return (scales,distance_set,overlaps)\n",
    "        "
   ]
  },
  {
   "cell_type": "code",
   "execution_count": 11,
   "metadata": {},
   "outputs": [],
   "source": [
    "G = nx.read_gexf(\"../graphs/ebola.gexf\")"
   ]
  },
  {
   "cell_type": "code",
   "execution_count": 12,
   "metadata": {},
   "outputs": [],
   "source": [
    "G = max(nx.weakly_connected_component_subgraphs(G), key=len).to_undirected()\n"
   ]
  },
  {
   "cell_type": "code",
   "execution_count": 13,
   "metadata": {},
   "outputs": [],
   "source": [
    "sizes = dict(zip(G.nodes(),set_node_size(G,\"inlink_count\",10,120)))"
   ]
  },
  {
   "cell_type": "code",
   "execution_count": 98,
   "metadata": {},
   "outputs": [],
   "source": [
    "result = visualize_distance_vs_scale_helper(G,5,105,10,sizes)"
   ]
  },
  {
   "cell_type": "code",
   "execution_count": 99,
   "metadata": {},
   "outputs": [],
   "source": [
    "distance_lists = np.array(result[1])"
   ]
  },
  {
   "cell_type": "code",
   "execution_count": 100,
   "metadata": {},
   "outputs": [],
   "source": [
    "avg_distances = distance_lists.mean(axis=1)"
   ]
  },
  {
   "cell_type": "code",
   "execution_count": 101,
   "metadata": {},
   "outputs": [],
   "source": [
    "max_distances = distance_lists.max(axis=1)"
   ]
  },
  {
   "cell_type": "code",
   "execution_count": 102,
   "metadata": {},
   "outputs": [],
   "source": [
    "min_distances = distance_lists.min(axis=1)"
   ]
  },
  {
   "cell_type": "code",
   "execution_count": 103,
   "metadata": {},
   "outputs": [],
   "source": [
    "colors= ['g' if item == False else 'r' for item in result[2] ]"
   ]
  },
  {
   "cell_type": "code",
   "execution_count": 104,
   "metadata": {},
   "outputs": [
    {
     "data": {
      "text/plain": [
       "['r', 'g', 'g', 'g', 'g', 'g', 'g', 'g', 'g', 'g']"
      ]
     },
     "execution_count": 104,
     "metadata": {},
     "output_type": "execute_result"
    }
   ],
   "source": [
    "colors"
   ]
  },
  {
   "cell_type": "code",
   "execution_count": 105,
   "metadata": {},
   "outputs": [],
   "source": [
    "import matplotlib.pyplot as plt\n",
    "%matplotlib inline"
   ]
  },
  {
   "cell_type": "code",
   "execution_count": 106,
   "metadata": {},
   "outputs": [],
   "source": [
    "import pandas as pd"
   ]
  },
  {
   "cell_type": "code",
   "execution_count": 107,
   "metadata": {},
   "outputs": [],
   "source": [
    "df = pd.DataFrame({\"scales\":result[0],\"min_distances\":min_distances,\"max_distances\":max_distances,\"avg_distances\":avg_distances,\n",
    "                   \"overlaps\":result[2]})"
   ]
  },
  {
   "cell_type": "code",
   "execution_count": 108,
   "metadata": {},
   "outputs": [],
   "source": [
    "import seaborn as sns"
   ]
  },
  {
   "cell_type": "code",
   "execution_count": 109,
   "metadata": {},
   "outputs": [
    {
     "data": {
      "text/plain": [
       "<matplotlib.legend.Legend at 0x142e441ed30>"
      ]
     },
     "execution_count": 109,
     "metadata": {},
     "output_type": "execute_result"
    },
    {
     "data": {
      "image/png": "[encoded data removed]",
      "text/plain": [
       "<Figure size 432x288 with 1 Axes>"
      ]
     },
     "metadata": {},
     "output_type": "display_data"
    }
   ],
   "source": [
    "plt.scatter(df['scales'],df['avg_distances'],color=colors,marker='o',label=None)\n",
    "plt.plot(df['scales'],df['avg_distances'],label=\"avg_distance\")\n",
    "plt.scatter(df['scales'],df['min_distances'],color=colors,marker='o',label=None)\n",
    "plt.plot(df['scales'],df['min_distances'],label=\"min_distance\")\n",
    "plt.scatter(df['scales'],df['max_distances'],color=colors,marker='o',label=None)\n",
    "plt.plot(df['scales'],df['max_distances'],label=\"max_distance\")\n",
    "plt.legend()"
   ]
  },
  {
   "cell_type": "code",
   "execution_count": null,
   "metadata": {},
   "outputs": [],
   "source": []
  }
 ],
 "metadata": {
  "kernelspec": {
   "display_name": "Python 3",
   "language": "python",
   "name": "python3"
  },
  "language_info": {
   "codemirror_mode": {
    "name": "ipython",
    "version": 3
   },
   "file_extension": ".py",
   "mimetype": "text/x-python",
   "name": "python",
   "nbconvert_exporter": "python",
   "pygments_lexer": "ipython3",
   "version": "3.6.5"
  }
 },
 "nbformat": 4,
 "nbformat_minor": 2
}
