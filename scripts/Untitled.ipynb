{
 "cells": [
  {
   "cell_type": "code",
   "execution_count": null,
   "metadata": {},
   "outputs": [],
   "source": [
    "import math\n",
    "import networkx as nx\n",
    "from itertools import combinations\n",
    "import numpy as np\n",
    "from utils import set_node_size\n",
    "from fa2l import force_atlas2_layout\n",
    "import os\n"
   ]
  },
  {
   "cell_type": "code",
   "execution_count": 4,
   "metadata": {},
   "outputs": [],
   "source": [
    "def get_distance(pos1,pos2):\n",
    "    \"\"\" Returns distance between two points\n",
    "    \n",
    "    Params : \n",
    "    \n",
    "    pos1 : tuple in (x,y) format\n",
    "    pos2 : tuple in (x,y) format\n",
    "    \n",
    "    \"\"\"\n",
    "    return math.sqrt((pos2[0]-pos1[0])**2 + (pos2[1]-pos1[1])**2)\n",
    "\n",
    "    \n",
    "\n",
    "def get_distances_pairwise_largest_nodes(G,pos,node_sizes,k=20):\n",
    "    \"\"\" \n",
    "    Boolean. Returns the distances between top k largest nodes\n",
    "    Parameters : \n",
    "    ____________\n",
    "    \n",
    "    G : A graph object\n",
    "    pos : dict containing the position of the nodes\n",
    "    k : number of nodes to consider    \n",
    "    \"\"\"\n",
    "    top_k_nodes = [n[0] for n in sorted(node_sizes.items(),key=lambda x:x[1], reverse = True)[0:k]]\n",
    "    top_k_pos = {k:v for k,v in pos.items() if k in top_k_nodes}\n",
    "    distances = {}\n",
    "    for n1,n2 in combinations(top_k_nodes,2):\n",
    "        distances[(n1,n2):get_distance(pos[n1],pos[n2])]\n",
    "            \n",
    "    return distances\n",
    "\n",
    "    \n",
    "\n",
    "\n",
    "    \n",
    "\n",
    "def direct_scaling_ratio(G,pos,node_sizes,ideal_min_top_node_distance,k=20):\n",
    "    current_min_top_node_distance = min(get_pairwise_distance_between_largest_nodes(G,pos,node_sizes,k=20).values())\n",
    "    return ideal_min_top_node_distance/current_min_top_node_distance\n",
    "    "
   ]
  },
  {
   "cell_type": "code",
   "execution_count": null,
   "metadata": {},
   "outputs": [],
   "source": []
  }
 ],
 "metadata": {
  "kernelspec": {
   "display_name": "Python 3",
   "language": "python",
   "name": "python3"
  },
  "language_info": {
   "codemirror_mode": {
    "name": "ipython",
    "version": 3
   },
   "file_extension": ".py",
   "mimetype": "text/x-python",
   "name": "python",
   "nbconvert_exporter": "python",
   "pygments_lexer": "ipython3",
   "version": "3.6.5"
  }
 },
 "nbformat": 4,
 "nbformat_minor": 2
}
