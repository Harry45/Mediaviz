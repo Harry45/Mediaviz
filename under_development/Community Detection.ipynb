{
 "cells": [
  {
   "cell_type": "code",
   "execution_count": 32,
   "metadata": {},
   "outputs": [],
   "source": [
    "import community\n",
    "import networkx as nx\n",
    "import matplotlib.pyplot as plt"
   ]
  },
  {
   "cell_type": "code",
   "execution_count": 33,
   "metadata": {},
   "outputs": [],
   "source": [
    "import random\n",
    "\n",
    "def generate_random_hex_color():\n",
    "    r = lambda: random.randint(0,255)\n",
    "    return '#%02X%02X%02X' % (r(),r(),r())"
   ]
  },
  {
   "cell_type": "code",
   "execution_count": 34,
   "metadata": {},
   "outputs": [],
   "source": [
    "def set_community_color(partition):\n",
    "    partitions = set(partition.values())\n",
    "    result = {p:generate_random_hex_color() for p in partitions}\n",
    "    return result"
   ]
  },
  {
   "cell_type": "code",
   "execution_count": 39,
   "metadata": {},
   "outputs": [],
   "source": [
    "G = nx.read_gexf(\"deep_state_1000.gexf\")\n",
    "G = max(nx.weakly_connected_component_subgraphs(G), key=len).to_undirected()\n"
   ]
  },
  {
   "cell_type": "code",
   "execution_count": 40,
   "metadata": {},
   "outputs": [],
   "source": [
    "import warnings\n",
    "warnings.filterwarnings('ignore')\n",
    "\n",
    "# this has to be first to make sure that matplotlib runs in headless mode\n",
    "import matplotlib\n",
    "matplotlib.use(\"Agg\")\n",
    "import numpy as np\n",
    "from fa2l import force_atlas2_layout\n",
    "import networkx as nx\n",
    "import matplotlib.pyplot as plt\n",
    "from adjustText import adjust_text\n",
    "\n",
    "from utils import set_node_size, set_node_color, set_node_label, edgecolor_by_source, filter_graph, get_subgraph_pos\n",
    "from utils import draw_networkx_nodes_custom\n",
    "from scaling import get_auto_scale, scale_layout\n",
    "from draw import draw_networkx_graph_customized\n",
    "\n",
    "\n",
    "def draw_forceatlas2_network(G, filename=\"untitled.png\"):\n",
    "    # extract the largest weakly connected component and convert to undirected for fa2l\n",
    "    # set parameters\n",
    "    \n",
    "    #first compute the best partition\n",
    "    partition = community.best_partition(G)\n",
    "\n",
    "    colormap = set_community_color(partition)\n",
    "    \n",
    "    # extract the positions\n",
    "    \n",
    "    fa2l_pos = force_atlas2_layout(\n",
    "        G,\n",
    "        iterations=50,\n",
    "        pos_list=None,\n",
    "        node_masses=None,\n",
    "        outbound_attraction_distribution=False,\n",
    "        lin_log_mode=False,\n",
    "        prevent_overlapping=False,\n",
    "        edge_weight_influence=1.0,\n",
    "        jitter_tolerance=1.0,\n",
    "        barnes_hut_optimize=True,\n",
    "        barnes_hut_theta=1.0,\n",
    "        scaling_ratio=38,\n",
    "        strong_gravity_mode=False,\n",
    "        multithread=False,\n",
    "        gravity=1.0)\n",
    "\n",
    "\n",
    "    # needed to calculate the top 20 largest nodes first\n",
    "    original_node_sizes = dict(zip(G.nodes(), set_node_size(\n",
    "        G, size_field=\"inlink_count\", min_size=0.1, max_size=200)))\n",
    "\n",
    "    scale = get_auto_scale(G, fa2l_pos, original_node_sizes, k=20)\n",
    "    print(\"scale : \" + str(scale))\n",
    "    # print(pos)\n",
    "\n",
    "    # scaling the position\n",
    "\n",
    "    pos = scale_layout(fa2l_pos, scale)\n",
    "    \n",
    "    \n",
    "    # draw the network\n",
    "    \n",
    "    draw_networkx_graph_customized(\n",
    "        G,\n",
    "        pos=pos,\n",
    "        num_nodes=100, num_labels=20,\n",
    "        color_by=\"partisan_retweet\", colormap=colormap,\n",
    "        size_field=\"inlink_count\", min_size=0.1, max_size=200,\n",
    "        with_labels=True, label_field=\"label\",\n",
    "        filter_by=\"inlink_count\", top=100,\n",
    "        adjust_labels=True,\n",
    "        node_opacity=0.5, edge_opacity=0.01,\n",
    "        font_size=8,\n",
    "        filename=\"untitled.png\", title=\"Deep State\",\n",
    "        edge_color_by_source=True,\n",
    "        figsize=(10, 10))\n"
   ]
  },
  {
   "cell_type": "code",
   "execution_count": 41,
   "metadata": {},
   "outputs": [
    {
     "name": "stdout",
     "output_type": "stream",
     "text": [
      "scale : 0.8487372695784557\n"
     ]
    },
    {
     "ename": "KeyError",
     "evalue": "'null'",
     "output_type": "error",
     "traceback": [
      "\u001b[1;31m---------------------------------------------------------------------------\u001b[0m",
      "\u001b[1;31mKeyError\u001b[0m                                  Traceback (most recent call last)",
      "\u001b[1;32m<ipython-input-41-5ca945ef2de5>\u001b[0m in \u001b[0;36m<module>\u001b[1;34m()\u001b[0m\n\u001b[1;32m----> 1\u001b[1;33m \u001b[0mdraw_forceatlas2_network\u001b[0m\u001b[1;33m(\u001b[0m\u001b[0mG\u001b[0m\u001b[1;33m,\u001b[0m \u001b[0mfilename\u001b[0m\u001b[1;33m=\u001b[0m\u001b[1;34m\"untitled.png\"\u001b[0m\u001b[1;33m)\u001b[0m\u001b[1;33m\u001b[0m\u001b[0m\n\u001b[0m",
      "\u001b[1;32m<ipython-input-40-978c9ff088e6>\u001b[0m in \u001b[0;36mdraw_forceatlas2_network\u001b[1;34m(G, filename)\u001b[0m\n\u001b[0;32m     74\u001b[0m         \u001b[0mfilename\u001b[0m\u001b[1;33m=\u001b[0m\u001b[1;34m\"untitled.png\"\u001b[0m\u001b[1;33m,\u001b[0m \u001b[0mtitle\u001b[0m\u001b[1;33m=\u001b[0m\u001b[1;34m\"Deep State\"\u001b[0m\u001b[1;33m,\u001b[0m\u001b[1;33m\u001b[0m\u001b[0m\n\u001b[0;32m     75\u001b[0m         \u001b[0medge_color_by_source\u001b[0m\u001b[1;33m=\u001b[0m\u001b[1;32mTrue\u001b[0m\u001b[1;33m,\u001b[0m\u001b[1;33m\u001b[0m\u001b[0m\n\u001b[1;32m---> 76\u001b[1;33m         figsize=(10, 10))\n\u001b[0m",
      "\u001b[1;32mD:\\draw.py\u001b[0m in \u001b[0;36mdraw_networkx_graph_customized\u001b[1;34m(G, pos, num_nodes, num_labels, node_colors, color_by, colormap, node_sizes, size_field, min_size, max_size, with_labels, label_field, filter_by, top, adjust_labels, node_opacity, edge_opacity, font_size, filename, title, edge_color_by_source, figsize, edge_color, **kwargs)\u001b[0m\n\u001b[0;32m     35\u001b[0m \u001b[1;33m\u001b[0m\u001b[0m\n\u001b[0;32m     36\u001b[0m     \u001b[1;32mif\u001b[0m \u001b[0mcolor_by\u001b[0m\u001b[1;33m:\u001b[0m\u001b[1;33m\u001b[0m\u001b[0m\n\u001b[1;32m---> 37\u001b[1;33m         \u001b[0mnode_colors\u001b[0m \u001b[1;33m=\u001b[0m \u001b[0mset_node_color\u001b[0m\u001b[1;33m(\u001b[0m\u001b[0mG\u001b[0m\u001b[1;33m,\u001b[0m \u001b[0mcolor_by\u001b[0m\u001b[1;33m=\u001b[0m\u001b[0mcolor_by\u001b[0m\u001b[1;33m,\u001b[0m \u001b[0mcolormap\u001b[0m\u001b[1;33m=\u001b[0m\u001b[0mcolormap\u001b[0m\u001b[1;33m)\u001b[0m\u001b[1;33m\u001b[0m\u001b[0m\n\u001b[0m\u001b[0;32m     38\u001b[0m \u001b[1;33m\u001b[0m\u001b[0m\n\u001b[0;32m     39\u001b[0m     \u001b[1;32mif\u001b[0m \u001b[0msize_field\u001b[0m\u001b[1;33m:\u001b[0m\u001b[1;33m\u001b[0m\u001b[0m\n",
      "\u001b[1;32mD:\\utils.py\u001b[0m in \u001b[0;36mset_node_color\u001b[1;34m(G, color_by, colormap)\u001b[0m\n\u001b[0;32m     26\u001b[0m \u001b[1;33m\u001b[0m\u001b[0m\n\u001b[0;32m     27\u001b[0m     \"\"\"\n\u001b[1;32m---> 28\u001b[1;33m     \u001b[0mnode_colors\u001b[0m \u001b[1;33m=\u001b[0m \u001b[1;33m[\u001b[0m\u001b[0mcolormap\u001b[0m\u001b[1;33m[\u001b[0m\u001b[0mn\u001b[0m\u001b[1;33m[\u001b[0m\u001b[1;36m1\u001b[0m\u001b[1;33m]\u001b[0m\u001b[1;33m[\u001b[0m\u001b[0mcolor_by\u001b[0m\u001b[1;33m]\u001b[0m\u001b[1;33m]\u001b[0m \u001b[1;32mfor\u001b[0m \u001b[0mn\u001b[0m \u001b[1;32min\u001b[0m \u001b[0mG\u001b[0m\u001b[1;33m.\u001b[0m\u001b[0mnodes\u001b[0m\u001b[1;33m(\u001b[0m\u001b[0mdata\u001b[0m\u001b[1;33m=\u001b[0m\u001b[1;32mTrue\u001b[0m\u001b[1;33m)\u001b[0m\u001b[1;33m]\u001b[0m\u001b[1;33m\u001b[0m\u001b[0m\n\u001b[0m\u001b[0;32m     29\u001b[0m     \u001b[1;32mreturn\u001b[0m \u001b[0mnode_colors\u001b[0m\u001b[1;33m\u001b[0m\u001b[0m\n\u001b[0;32m     30\u001b[0m \u001b[1;33m\u001b[0m\u001b[0m\n",
      "\u001b[1;32mD:\\utils.py\u001b[0m in \u001b[0;36m<listcomp>\u001b[1;34m(.0)\u001b[0m\n\u001b[0;32m     26\u001b[0m \u001b[1;33m\u001b[0m\u001b[0m\n\u001b[0;32m     27\u001b[0m     \"\"\"\n\u001b[1;32m---> 28\u001b[1;33m     \u001b[0mnode_colors\u001b[0m \u001b[1;33m=\u001b[0m \u001b[1;33m[\u001b[0m\u001b[0mcolormap\u001b[0m\u001b[1;33m[\u001b[0m\u001b[0mn\u001b[0m\u001b[1;33m[\u001b[0m\u001b[1;36m1\u001b[0m\u001b[1;33m]\u001b[0m\u001b[1;33m[\u001b[0m\u001b[0mcolor_by\u001b[0m\u001b[1;33m]\u001b[0m\u001b[1;33m]\u001b[0m \u001b[1;32mfor\u001b[0m \u001b[0mn\u001b[0m \u001b[1;32min\u001b[0m \u001b[0mG\u001b[0m\u001b[1;33m.\u001b[0m\u001b[0mnodes\u001b[0m\u001b[1;33m(\u001b[0m\u001b[0mdata\u001b[0m\u001b[1;33m=\u001b[0m\u001b[1;32mTrue\u001b[0m\u001b[1;33m)\u001b[0m\u001b[1;33m]\u001b[0m\u001b[1;33m\u001b[0m\u001b[0m\n\u001b[0m\u001b[0;32m     29\u001b[0m     \u001b[1;32mreturn\u001b[0m \u001b[0mnode_colors\u001b[0m\u001b[1;33m\u001b[0m\u001b[0m\n\u001b[0;32m     30\u001b[0m \u001b[1;33m\u001b[0m\u001b[0m\n",
      "\u001b[1;31mKeyError\u001b[0m: 'null'"
     ]
    }
   ],
   "source": [
    "draw_forceatlas2_network(G, filename=\"untitled.png\")"
   ]
  },
  {
   "cell_type": "code",
   "execution_count": null,
   "metadata": {},
   "outputs": [],
   "source": []
  }
 ],
 "metadata": {
  "kernelspec": {
   "display_name": "Python 3",
   "language": "python",
   "name": "python3"
  },
  "language_info": {
   "codemirror_mode": {
    "name": "ipython",
    "version": 3
   },
   "file_extension": ".py",
   "mimetype": "text/x-python",
   "name": "python",
   "nbconvert_exporter": "python",
   "pygments_lexer": "ipython3",
   "version": "3.6.5"
  }
 },
 "nbformat": 4,
 "nbformat_minor": 2
}
