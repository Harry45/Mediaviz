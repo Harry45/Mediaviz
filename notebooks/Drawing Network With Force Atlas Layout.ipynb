{
 "cells": [
  {
   "cell_type": "code",
   "execution_count": 5,
   "metadata": {},
   "outputs": [],
   "source": [
    "import networkx as nx\n",
    "import pandas as pd\n"
   ]
  },
  {
   "cell_type": "code",
   "execution_count": 6,
   "metadata": {},
   "outputs": [],
   "source": [
    "immigration = nx.read_gexf(\"immigration_overall_web.gexf\")"
   ]
  },
  {
   "cell_type": "code",
   "execution_count": 9,
   "metadata": {},
   "outputs": [
    {
     "name": "stdout",
     "output_type": "stream",
     "text": [
      "Name: \n",
      "Type: DiGraph\n",
      "Number of nodes: 7545\n",
      "Number of edges: 32908\n",
      "Average in degree:   4.3616\n",
      "Average out degree:   4.3616\n"
     ]
    }
   ],
   "source": [
    "print(nx.info(immigration))"
   ]
  },
  {
   "cell_type": "code",
   "execution_count": 29,
   "metadata": {},
   "outputs": [
    {
     "data": {
      "text/plain": [
       "[('2',\n",
       "  {'facebook_share_count': 8032708,\n",
       "   'fake_news': '0',\n",
       "   'inlink_count': 723,\n",
       "   'label': 'Washington Post',\n",
       "   'media_type': 'General News',\n",
       "   'normalized_tweet_count': 0,\n",
       "   'partisan_code': 'null',\n",
       "   'partisan_retweet': 'center_left',\n",
       "   'simple_tweet_count': 0,\n",
       "   'story_count': 2572,\n",
       "   'url': 'http://washingtonpost.com',\n",
       "   'view_medium': 'https://core.mediacloud.org//admin/tm/medium/2?timespan=93598'}),\n",
       " ('1',\n",
       "  {'facebook_share_count': 11591873,\n",
       "   'fake_news': '0',\n",
       "   'inlink_count': 719,\n",
       "   'label': 'New York Times',\n",
       "   'media_type': 'General News',\n",
       "   'normalized_tweet_count': 0,\n",
       "   'partisan_code': 'null',\n",
       "   'partisan_retweet': 'center_left',\n",
       "   'simple_tweet_count': 0,\n",
       "   'story_count': 2135,\n",
       "   'url': 'http://nytimes.com',\n",
       "   'view_medium': 'https://core.mediacloud.org//admin/tm/medium/1?timespan=93598'}),\n",
       " ('25316',\n",
       "  {'facebook_share_count': 603528,\n",
       "   'fake_news': '0',\n",
       "   'inlink_count': 708,\n",
       "   'label': 'Pew Research',\n",
       "   'media_type': 'Ind. Group',\n",
       "   'normalized_tweet_count': 0,\n",
       "   'partisan_code': 'null',\n",
       "   'partisan_retweet': 'null',\n",
       "   'simple_tweet_count': 0,\n",
       "   'story_count': 309,\n",
       "   'url': 'http://pewresearch.org',\n",
       "   'view_medium': 'https://core.mediacloud.org//admin/tm/medium/25316?timespan=93598'})]"
      ]
     },
     "execution_count": 29,
     "metadata": {},
     "output_type": "execute_result"
    }
   ],
   "source": [
    "list(immigration.nodes(data=True))[0:3]"
   ]
  },
  {
   "cell_type": "code",
   "execution_count": null,
   "metadata": {},
   "outputs": [],
   "source": []
  }
 ],
 "metadata": {
  "kernelspec": {
   "display_name": "Python 3",
   "language": "python",
   "name": "python3"
  },
  "language_info": {
   "codemirror_mode": {
    "name": "ipython",
    "version": 3
   },
   "file_extension": ".py",
   "mimetype": "text/x-python",
   "name": "python",
   "nbconvert_exporter": "python",
   "pygments_lexer": "ipython3",
   "version": "3.6.4"
  }
 },
 "nbformat": 4,
 "nbformat_minor": 2
}
